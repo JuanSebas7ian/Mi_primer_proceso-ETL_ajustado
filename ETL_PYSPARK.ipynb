{
 "cells": [
  {
   "cell_type": "code",
   "execution_count": 1,
   "id": "96b68672",
   "metadata": {},
   "outputs": [],
   "source": [
    "from pyspark.sql import SparkSession\n",
    "from pyspark.sql import functions\n",
    "from pyspark.sql.types import StructType\n",
    "from pyspark import SparkContext, SparkConf, SQLContext\n",
    "from pyspark.sql.types import FloatType\n",
    "from pyspark.sql.functions import udf\n",
    "import pandas as pd\n",
    "import os \n",
    "import numpy as np\n",
    "import matplotlib.pyplot as plt\n",
    "import matplotlib.ticker as mtick\n",
    "import seaborn as sns"
   ]
  },
  {
   "cell_type": "code",
   "execution_count": 2,
   "id": "03b19514",
   "metadata": {},
   "outputs": [],
   "source": [
    "\n",
    "os.environ['PYSPARK_SUBMIT_ARGS'] = '--jars /usr/share/java/mariadb-java-client-2.5.3.jar pyspark-shell'"
   ]
  },
  {
   "cell_type": "code",
   "execution_count": 3,
   "id": "c767f83b",
   "metadata": {},
   "outputs": [],
   "source": [
    "#Configuración de la sesión\n",
    "spark_context = SparkContext()\n",
    "sql_context = SQLContext(spark_context)\n",
    "spark = sql_context.sparkSession"
   ]
  },
  {
   "cell_type": "code",
   "execution_count": 4,
   "id": "4bb10711",
   "metadata": {},
   "outputs": [],
   "source": [
    "PATH = \"./data/\""
   ]
  },
  {
   "cell_type": "code",
   "execution_count": 5,
   "id": "aedc27c7",
   "metadata": {},
   "outputs": [],
   "source": [
    "# Importando los datos para trabajar con ellos, esto debido a la imposibilidad de conectarme a sql Server\n",
    "vuelos_e2 = spark.read.load(PATH+\"vuelosEtapa2.csv\",format=\"csv\", sep=\",\", inferSchema=\"true\", header=\"true\")\n",
    "acinfra = spark.read.load(PATH+\"aeropuertos_cambios_infraestructura.csv\",format=\"csv\", sep=\",\", inferSchema=\"true\", header=\"true\")\n",
    "matriz_dis = spark.read.load(PATH+\"Matriz de distancias entre aeropuertos y centros poblados de Colombia1.csv\",format=\"csv\", sep=\",\", inferSchema=\"true\", header=\"true\")\n",
    "cobertura_aerea = spark.read.load(PATH+\"Cobertura Aerea de Centros poblados por categoria de AereopuertoConCodigoCentroPoblado.csv\",format=\"csv\", sep=\",\", inferSchema=\"true\", header=\"true\")"
   ]
  },
  {
   "cell_type": "code",
   "execution_count": 6,
   "id": "c6b011a1",
   "metadata": {},
   "outputs": [],
   "source": [
    "# Se convierte en tipo float para hacer operaciones ya que no funciona con tipo decimal\n",
    "cobertura_aerea = cobertura_aerea.withColumn(\"Distancia(Km)\",cobertura_aerea[\"Distancia(Km)\"].cast(FloatType()))\n",
    "cobertura_aerea = cobertura_aerea.withColumn(\"D_Aerodromo\",cobertura_aerea[\"D_Aerodromo\"].cast(FloatType()))\n",
    "cobertura_aerea = cobertura_aerea.withColumn(\"D_Regional\",cobertura_aerea[\"D_Regional\"].cast(FloatType()))\n",
    "cobertura_aerea = cobertura_aerea.withColumn(\"D_Internacional\",cobertura_aerea[\"D_Internacional\"].cast(FloatType()))"
   ]
  },
  {
   "cell_type": "code",
   "execution_count": 7,
   "id": "4c7ea160",
   "metadata": {},
   "outputs": [],
   "source": [
    "# Se convierte en tipo float para hacer operaciones ya que no funciona con tipo decimal\n",
    "vuelos_e2 = vuelos_e2.withColumn(\"sillas\",vuelos_e2[\"sillas\"].cast(FloatType()))\n",
    "vuelos_e2 = vuelos_e2.withColumn(\"carga_ofrecida\",vuelos_e2[\"carga_ofrecida\"].cast(FloatType()))\n",
    "vuelos_e2 = vuelos_e2.withColumn(\"pasajeros\",vuelos_e2[\"pasajeros\"].cast(FloatType()))\n",
    "vuelos_e2 = vuelos_e2.withColumn(\"carga_bordo\",vuelos_e2[\"carga_bordo\"].cast(FloatType()))"
   ]
  },
  {
   "cell_type": "code",
   "execution_count": 8,
   "id": "0c2681c3",
   "metadata": {},
   "outputs": [],
   "source": [
    "# Se convierte en tipo float para hacer operaciones ya que no funciona con tipo decimal\n",
    "acinfra = acinfra.withColumn(\"longitud_pista\",acinfra[\"longitud_pista\"].cast(FloatType()))\n",
    "acinfra = acinfra.withColumn(\"ancho_pista\",acinfra[\"ancho_pista\"].cast(FloatType()))\n",
    "acinfra = acinfra.withColumn(\"longitud_pista\",acinfra[\"longitud_pista\"].cast(FloatType()))\n",
    "acinfra = acinfra.withColumn(\"elevacion\",acinfra[\"elevacion\"].cast(FloatType()))\n",
    "acinfra = acinfra.withColumn(\"numero_vuelos_origen\",acinfra[\"numero_vuelos_origen\"].cast(FloatType()))"
   ]
  },
  {
   "cell_type": "code",
   "execution_count": 9,
   "id": "b71119d3",
   "metadata": {},
   "outputs": [
    {
     "name": "stdout",
     "output_type": "stream",
     "text": [
      "+-------+------------------+------------------+-----------------+------------------+\n",
      "|summary|     Distancia(Km)|       D_Aerodromo|       D_Regional|   D_Internacional|\n",
      "+-------+------------------+------------------+-----------------+------------------+\n",
      "|  count|              7879|              7879|             7879|              7879|\n",
      "|   mean|2304.8468978274245| 2314.807427213081|2365.080928418524|2393.3208420553055|\n",
      "| stddev| 47744.39138609431|47743.925423853965|47741.53626693145| 47740.22357323566|\n",
      "|    min|       0.022363015|       0.022363015|      0.023008129|        0.03499221|\n",
      "|    25%|          9.858557|         12.264982|        49.568638|         48.311535|\n",
      "|    50%|         18.018097|          23.22768|         77.13139|          96.89004|\n",
      "|    75%|          28.14128|         39.478962|        100.98504|         153.09279|\n",
      "|    max|          999999.0|          999999.0|         999999.0|          999999.0|\n",
      "+-------+------------------+------------------+-----------------+------------------+\n",
      "\n"
     ]
    }
   ],
   "source": [
    "cobertura_aerea.select('Distancia(Km)', 'D_Aerodromo', 'D_Regional', 'D_Internacional').summary().show()"
   ]
  },
  {
   "cell_type": "code",
   "execution_count": 10,
   "id": "e4485173",
   "metadata": {},
   "outputs": [
    {
     "name": "stdout",
     "output_type": "stream",
     "text": [
      "+-------+------------------+-----------------+------------------+------------------+------------------+\n",
      "|summary|            vuelos|           sillas|    carga_ofrecida|         pasajeros|       carga_bordo|\n",
      "+-------+------------------+-----------------+------------------+------------------+------------------+\n",
      "|  count|             82559|            82559|             82559|             82559|             82558|\n",
      "|   mean|14.394953911747962|1298.999927324701| 59751.02508509066|1043.8061870904444|6528.3458417112815|\n",
      "| stddev|38.071583119682145|5021.319646552459|269353.90228866035| 4057.579610115156| 27560.51657063183|\n",
      "|    min|                 0|              0.0|               0.0|               0.0|               0.0|\n",
      "|    25%|                 1|              0.0|               0.0|               2.0|               0.0|\n",
      "|    50%|                 2|              0.0|               0.0|               8.0|              90.0|\n",
      "|    75%|                 9|            248.0|           10000.0|             200.0|            1088.0|\n",
      "|    max|              2004|          81019.0|         4758000.0|           65195.0|          467438.0|\n",
      "+-------+------------------+-----------------+------------------+------------------+------------------+\n",
      "\n"
     ]
    }
   ],
   "source": [
    "vuelos_e2.select('vuelos', 'sillas', 'carga_ofrecida', 'pasajeros','carga_bordo').summary().show()"
   ]
  },
  {
   "cell_type": "code",
   "execution_count": 11,
   "id": "fa82ac7e",
   "metadata": {},
   "outputs": [
    {
     "name": "stdout",
     "output_type": "stream",
     "text": [
      "+-------+------------------+------------------+------------------+------------------+--------------------+\n",
      "|summary|    longitud_pista|       ancho_pista|    longitud_pista|         elevacion|numero_vuelos_origen|\n",
      "+-------+------------------+------------------+------------------+------------------+--------------------+\n",
      "|  count|               863|               863|               863|               863|                 863|\n",
      "|   mean|1209.7891077636152|22.850521436848204|1209.7891077636152| 989.0509849362688|   15449.79258400927|\n",
      "| stddev|1550.0621945525252|26.082808458054803|1550.0621945525252|1460.8062833235342|  199820.26072160207|\n",
      "|    min|               0.0|               0.0|               0.0|               0.0|                 0.0|\n",
      "|    25%|             179.0|               3.0|             179.0|             367.0|                 0.0|\n",
      "|    50%|             671.0|              15.0|             671.0|             568.0|                 2.0|\n",
      "|    75%|            1598.0|              34.0|            1598.0|             797.0|               258.0|\n",
      "|    max|           12279.0|             163.0|           12279.0|            9740.0|           5057074.0|\n",
      "+-------+------------------+------------------+------------------+------------------+--------------------+\n",
      "\n"
     ]
    }
   ],
   "source": [
    "acinfra.select('longitud_pista', 'ancho_pista', 'longitud_pista', 'elevacion', 'numero_vuelos_origen').summary().show()"
   ]
  },
  {
   "cell_type": "code",
   "execution_count": 12,
   "id": "ed7a2e71",
   "metadata": {},
   "outputs": [],
   "source": [
    "# Funcion para visualizar por medio de histogramas la informacion de los archivos\n",
    "\n",
    "def histo(df, lista):\n",
    "    \n",
    "    for i in df:\n",
    "        for j in lista:\n",
    "            if j==i:\n",
    "                hists = df.select(j).rdd.flatMap(lambda x: x).histogram(10)\n",
    "        return hists"
   ]
  },
  {
   "cell_type": "code",
   "execution_count": 13,
   "id": "3a4dc3a1",
   "metadata": {},
   "outputs": [],
   "source": [
    "#Filas de columnas para visualizar\n",
    "l_cobertura_aerea=['Distancia(Km)', 'D_Aerodromo', 'D_Regional', 'D_Internacional']\n",
    "l_vuelos_e2=['vuelos', 'sillas', 'carga_ofrecida', 'pasajeros','carga_bordo']\n",
    "l_acinfra=['longitud_pista', 'ancho_pista', 'longitud_pista', 'elevacion', 'numero_vuelos_origen']"
   ]
  },
  {
   "cell_type": "code",
   "execution_count": 14,
   "id": "73e8377a",
   "metadata": {},
   "outputs": [],
   "source": [
    "import numpy as np\n",
    "import matplotlib.pyplot as mplt\n",
    "import matplotlib.ticker as mtick\n",
    "\n",
    "\n",
    "def plotHistogramData(df, columna):\n",
    "    data = df.select(columna).rdd.flatMap(lambda x: x).histogram(10)\n",
    "    binSides, binCounts = data\n",
    "    binSides = [round(i, 2) for i in binSides]\n",
    "    N = len(binCounts)\n",
    "    ind = np.arange(N)\n",
    "    width = 1\n",
    "\n",
    "    fig, ax = mplt.subplots()\n",
    "    rects1 = ax.bar(ind+0.5, binCounts, width, color='b')\n",
    "    \n",
    "    fig.set_size_inches(1.3*N, 8)\n",
    "\n",
    "    ax.set_ylabel('Frecuencia')\n",
    "    ax.set_xlabel('Rango')\n",
    "    ax.set_title(columna)\n",
    "    ax.set_xticks(np.arange(N+1))\n",
    "    ax.set_xticklabels(binSides)\n",
    "\n",
    "    mplt.show()\n",
    "\n"
   ]
  },
  {
   "cell_type": "code",
   "execution_count": 15,
   "id": "4d001b51",
   "metadata": {},
   "outputs": [
    {
     "data": {
      "image/png": "[encoded data removed]",
      "text/plain": [
       "<Figure size 936x576 with 1 Axes>"
      ]
     },
     "metadata": {
      "needs_background": "light"
     },
     "output_type": "display_data"
    },
    {
     "data": {
      "image/png": "[encoded data removed]",
      "text/plain": [
       "<Figure size 936x576 with 1 Axes>"
      ]
     },
     "metadata": {
      "needs_background": "light"
     },
     "output_type": "display_data"
    },
    {
     "data": {
      "image/png": "[encoded data removed]",
      "text/plain": [
       "<Figure size 936x576 with 1 Axes>"
      ]
     },
     "metadata": {
      "needs_background": "light"
     },
     "output_type": "display_data"
    },
    {
     "data": {
      "image/png": "[encoded data removed]",
      "text/plain": [
       "<Figure size 936x576 with 1 Axes>"
      ]
     },
     "metadata": {
      "needs_background": "light"
     },
     "output_type": "display_data"
    }
   ],
   "source": [
    "for i in l_cobertura_aerea:\n",
    "    plotHistogramData(cobertura_aerea, i)\n",
    "    "
   ]
  },
  {
   "cell_type": "code",
   "execution_count": 16,
   "id": "5c56217f",
   "metadata": {},
   "outputs": [
    {
     "data": {
      "image/png": "[encoded data removed]",
      "text/plain": [
       "<Figure size 936x576 with 1 Axes>"
      ]
     },
     "metadata": {
      "needs_background": "light"
     },
     "output_type": "display_data"
    },
    {
     "data": {
      "image/png": "[encoded data removed]",
      "text/plain": [
       "<Figure size 936x576 with 1 Axes>"
      ]
     },
     "metadata": {
      "needs_background": "light"
     },
     "output_type": "display_data"
    },
    {
     "data": {
      "image/png": "[encoded data removed]",
      "text/plain": [
       "<Figure size 936x576 with 1 Axes>"
      ]
     },
     "metadata": {
      "needs_background": "light"
     },
     "output_type": "display_data"
    },
    {
     "data": {
      "image/png": "[encoded data removed]",
      "text/plain": [
       "<Figure size 936x576 with 1 Axes>"
      ]
     },
     "metadata": {
      "needs_background": "light"
     },
     "output_type": "display_data"
    },
    {
     "data": {
      "image/png": "[encoded data removed]",
      "text/plain": [
       "<Figure size 936x576 with 1 Axes>"
      ]
     },
     "metadata": {
      "needs_background": "light"
     },
     "output_type": "display_data"
    }
   ],
   "source": [
    "for i in l_vuelos_e2:\n",
    "    plotHistogramData(vuelos_e2, i)\n",
    "    "
   ]
  },
  {
   "cell_type": "code",
   "execution_count": 17,
   "id": "19a9c918",
   "metadata": {},
   "outputs": [
    {
     "data": {
      "image/png": "[encoded data removed]",
      "text/plain": [
       "<Figure size 936x576 with 1 Axes>"
      ]
     },
     "metadata": {
      "needs_background": "light"
     },
     "output_type": "display_data"
    },
    {
     "data": {
      "image/png": "[encoded data removed]",
      "text/plain": [
       "<Figure size 936x576 with 1 Axes>"
      ]
     },
     "metadata": {
      "needs_background": "light"
     },
     "output_type": "display_data"
    },
    {
     "data": {
      "image/png": "[encoded data removed]",
      "text/plain": [
       "<Figure size 936x576 with 1 Axes>"
      ]
     },
     "metadata": {
      "needs_background": "light"
     },
     "output_type": "display_data"
    },
    {
     "data": {
      "image/png": "[encoded data removed]",
      "text/plain": [
       "<Figure size 936x576 with 1 Axes>"
      ]
     },
     "metadata": {
      "needs_background": "light"
     },
     "output_type": "display_data"
    },
    {
     "data": {
      "image/png": "[encoded data removed]",
      "text/plain": [
       "<Figure size 936x576 with 1 Axes>"
      ]
     },
     "metadata": {
      "needs_background": "light"
     },
     "output_type": "display_data"
    }
   ],
   "source": [
    "for i in l_acinfra:\n",
    "    plotHistogramData(acinfra, i)"
   ]
  },
  {
   "cell_type": "code",
   "execution_count": 18,
   "id": "e2fda691",
   "metadata": {},
   "outputs": [
    {
     "name": "stdout",
     "output_type": "stream",
     "text": [
      "+----------+--------------+---------------------+-----------+------------------+------------------+\n",
      "|tipo_vuelo|max(pasajeros)|count(carga_ofrecida)|max(vuelos)|  avg(carga_bordo)|       avg(sillas)|\n",
      "+----------+--------------+---------------------+-----------+------------------+------------------+\n",
      "|         T|        3020.0|                50399|       2004|420.61921107980476|               0.0|\n",
      "|         C|        8429.0|                  782|         59|13736.482097186701|1776.6892583120205|\n",
      "|         A|        3205.0|                 1430|         35| 466.9762237762238|289.74825174825173|\n",
      "|         R|       65195.0|                29948|        542|16907.943902764793|3520.7834913850675|\n",
      "+----------+--------------+---------------------+-----------+------------------+------------------+\n",
      "\n"
     ]
    }
   ],
   "source": [
    "#Estadisticas de la tablas de vuelos, tipo de vuelo\n",
    "vuelos_e2.groupBy('tipo_vuelo').agg({'vuelos':'max','sillas': 'mean',  'carga_bordo': 'mean','carga_ofrecida': 'count', 'pasajeros': 'max'}).show()"
   ]
  },
  {
   "cell_type": "code",
   "execution_count": 19,
   "id": "c4282a91",
   "metadata": {},
   "outputs": [
    {
     "name": "stdout",
     "output_type": "stream",
     "text": [
      "+-------+--------------+---------------------+-----------+------------------+-----------------+\n",
      "|trafico|max(pasajeros)|count(carga_ofrecida)|max(vuelos)|  avg(carga_bordo)|      avg(sillas)|\n",
      "+-------+--------------+---------------------+-----------+------------------+-----------------+\n",
      "|      N|       65195.0|                82559|       2004|6528.3458417112815|1298.999927324701|\n",
      "+-------+--------------+---------------------+-----------+------------------+-----------------+\n",
      "\n"
     ]
    }
   ],
   "source": [
    "#Estadisticas de la tablas de vuelos, trafico\n",
    "vuelos_e2.groupBy('trafico').agg({'vuelos':'max','sillas': 'mean',  'carga_bordo': 'mean','carga_ofrecida': 'count', 'pasajeros': 'max'}).show()"
   ]
  },
  {
   "cell_type": "code",
   "execution_count": 20,
   "id": "46142f93",
   "metadata": {},
   "outputs": [
    {
     "name": "stdout",
     "output_type": "stream",
     "text": [
      "+----+--------------+---------------------+-----------+------------------+------------------+\n",
      "| ano|max(pasajeros)|count(carga_ofrecida)|max(vuelos)|  avg(carga_bordo)|       avg(sillas)|\n",
      "+----+--------------+---------------------+-----------+------------------+------------------+\n",
      "|2015|       60751.0|                10881|        542|       9166.203125|1697.8820880433784|\n",
      "|2013|       65195.0|                13413|        533| 5169.295310519645|1099.3143219264891|\n",
      "|2014|       63813.0|                13276|        540| 6582.980114492317|1244.4859897559506|\n",
      "|2012|       58917.0|                12426|        452| 4733.363351038146|1096.7912441654596|\n",
      "|2016|       56408.0|                10691|        458| 9436.738658684875|1752.0681881956787|\n",
      "|2010|       38680.0|                10461|       2004| 5714.983844756715|1199.0277220151038|\n",
      "|2011|       50628.0|                11411|        401|5522.5740075365875|1104.1506441153274|\n",
      "+----+--------------+---------------------+-----------+------------------+------------------+\n",
      "\n"
     ]
    }
   ],
   "source": [
    "#Estadisticas de la tablas de vuelos, año\n",
    "vuelos_e2.groupBy('ano').agg({'vuelos':'max','sillas': 'mean',  'carga_bordo': 'mean','carga_ofrecida': 'count', 'pasajeros': 'max'}).show()"
   ]
  },
  {
   "cell_type": "code",
   "execution_count": 21,
   "id": "327c447e",
   "metadata": {},
   "outputs": [
    {
     "name": "stdout",
     "output_type": "stream",
     "text": [
      "+-------+--------------+---------------------+-----------+------------------+------------------+\n",
      "|destino|max(pasajeros)|count(carga_ofrecida)|max(vuelos)|  avg(carga_bordo)|       avg(sillas)|\n",
      "+-------+--------------+---------------------+-----------+------------------+------------------+\n",
      "|    9CL|           2.0|                    2|          1|             100.0|               0.0|\n",
      "|    7HC|           5.0|                    1|          1|              40.0|               0.0|\n",
      "|    9AB|          90.0|                   23|         30| 135.8695652173913|               0.0|\n",
      "|    9AZ|         120.0|                  398|         20|122.58793969849246|               0.0|\n",
      "|    9CG|          39.0|                   75|          7|111.21333333333334|               0.0|\n",
      "|    OTU|          14.0|                   39|          5| 67.56410256410257|0.8717948717948718|\n",
      "|    7FZ|           2.0|                    3|          2|               6.0|               0.0|\n",
      "|    9LS|           3.0|                    1|          1|              81.0|               0.0|\n",
      "|    NVA|        7804.0|                 2553|        194|  922.027027027027|  526.361535448492|\n",
      "|    7GI|           2.0|                    1|          1|               0.0|               0.0|\n",
      "|    RVE|         507.0|                  480|         26| 570.1833333333333| 90.82083333333334|\n",
      "|    7HM|           9.0|                   19|          3|59.473684210526315|               0.0|\n",
      "|    9BB|          12.0|                   61|          6| 54.59016393442623|               0.0|\n",
      "|    CAQ|         114.0|                  249|         19| 959.6907630522088| 40.16465863453815|\n",
      "|    9BI|           3.0|                    5|          1|              90.0|               0.0|\n",
      "|    9CD|           6.0|                   11|          2|              75.0|               0.0|\n",
      "|    BEC|           5.0|                    1|          1|              86.0|               0.0|\n",
      "|    9BO|          13.0|                   12|          5|              21.5|               0.0|\n",
      "|    ACD|          59.0|                   85|         10|223.91764705882352|  9.75294117647059|\n",
      "|    7IH|           5.0|                    9|          1|58.888888888888886|               0.0|\n",
      "+-------+--------------+---------------------+-----------+------------------+------------------+\n",
      "only showing top 20 rows\n",
      "\n"
     ]
    }
   ],
   "source": [
    "#Estadisticas de la tablas de vuelos, destino\n",
    "vuelos_e2.groupBy('destino').agg({'vuelos':'max','sillas': 'mean',  'carga_bordo': 'mean','carga_ofrecida': 'count', 'pasajeros': 'max'}).show()"
   ]
  },
  {
   "cell_type": "code",
   "execution_count": 22,
   "id": "a02697ff",
   "metadata": {},
   "outputs": [
    {
     "name": "stdout",
     "output_type": "stream",
     "text": [
      "+------+--------------+---------------------+-----------+------------------+------------------+\n",
      "|origen|max(pasajeros)|count(carga_ofrecida)|max(vuelos)|  avg(carga_bordo)|       avg(sillas)|\n",
      "+------+--------------+---------------------+-----------+------------------+------------------+\n",
      "|   9CL|           1.0|                    2|          1|              50.0|               0.0|\n",
      "|   9AB|         100.0|                   11|         30| 195.9090909090909|               0.0|\n",
      "|   9AZ|         110.0|                  356|         11| 77.81460674157303|               0.0|\n",
      "|   9CG|          22.0|                   70|          5|39.457142857142856|               0.0|\n",
      "|   OTU|          14.0|                   49|          3| 186.3469387755102|0.7346938775510204|\n",
      "|   7FZ|           7.0|                    3|          2|             206.0|               0.0|\n",
      "|   NVA|        7942.0|                 2602|        194| 578.6779400461184|  553.227901614143|\n",
      "|   RVE|         394.0|                  503|         17| 445.8528827037773| 86.59045725646124|\n",
      "|   7HM|           9.0|                   24|          2|16.458333333333332|               0.0|\n",
      "|   9BB|          11.0|                   63|          6| 33.15873015873016|               0.0|\n",
      "|   CAQ|         138.0|                  233|         11| 1040.381974248927| 27.03862660944206|\n",
      "|   9BI|           4.0|                    6|          1| 8.333333333333334|               0.0|\n",
      "|   9CD|           5.0|                   12|          1|26.083333333333332|               0.0|\n",
      "|   BEC|           5.0|                    1|          1|              92.0|               0.0|\n",
      "|   9BO|          13.0|                   13|          4|21.307692307692307|               0.0|\n",
      "|   ACD|          72.0|                   77|          9|144.57142857142858| 7.961038961038961|\n",
      "|   YPP|           2.0|                    2|          1|              10.5|               0.0|\n",
      "|   7IH|           5.0|                    9|          2| 68.33333333333333|               0.0|\n",
      "|   PUU|        1501.0|                 1058|         56|379.29962192816635|228.18147448015122|\n",
      "|   9AI|          80.0|                  360|         20| 97.72222222222223|               0.0|\n",
      "+------+--------------+---------------------+-----------+------------------+------------------+\n",
      "only showing top 20 rows\n",
      "\n"
     ]
    }
   ],
   "source": [
    "#Estadisticas de la tablas de vuelos, origen\n",
    "vuelos_e2.groupBy('origen').agg({'vuelos':'max','sillas': 'mean',  'carga_bordo': 'mean','carga_ofrecida': 'count', 'pasajeros': 'max'}).show()"
   ]
  },
  {
   "cell_type": "code",
   "execution_count": 23,
   "id": "3e070452",
   "metadata": {},
   "outputs": [
    {
     "name": "stdout",
     "output_type": "stream",
     "text": [
      "+--------------------+--------------+---------------------+-----------+------------------+-----------+\n",
      "|             empresa|max(pasajeros)|count(carga_ofrecida)|max(vuelos)|  avg(carga_bordo)|avg(sillas)|\n",
      "+--------------------+--------------+---------------------+-----------+------------------+-----------+\n",
      "|VERTICAL DE AVIAC...|          45.0|                   77|          9|  270.987012987013|        0.0|\n",
      "|             HELICOL|         404.0|                  752|         35| 268.0412782956059|        0.0|\n",
      "|AERO TAXI GUAYMAR...|          16.0|                  741|          8|41.446693657219974|        0.0|\n",
      "|        AIR COLOMBIA|           0.0|                  583|         17| 6015.608919382505|        0.0|\n",
      "|CHARTER DEL CARIB...|          31.0|                  844|          7| 7.524881516587678|        0.0|\n",
      "|             ALIANSA|         172.0|                  300|         12|3049.1366666666668|       41.7|\n",
      "|         SEARCA S.A.|        3020.0|                 8633|        191| 909.8793003590872|        0.0|\n",
      "|         AEROMENEGUA|          82.0|                  858|         27| 589.3776223776224|        0.0|\n",
      "|ANDES LINEAS AERE...|          48.0|                    2|          1|               0.0|       50.0|\n",
      "|AEROEXPRESO DEL P...|         485.0|                  336|         64| 809.0833333333334|        0.0|\n",
      "|              TAERCO|           6.0|                   18|          2| 87.77777777777777|        0.0|\n",
      "|    TAMPA CARGO S.A.|           0.0|                  177|         11| 39349.24293785311|        0.0|\n",
      "|CENTURION AIR CAR...|           0.0|                    7|          3| 45345.28571428572|        0.0|\n",
      "|               TAXCO|           2.0|                    5|          2|             183.6|        0.0|\n",
      "|                 TAC|         696.0|                 2024|        109| 766.9491106719368|        0.0|\n",
      "|           AEROSUCRE|           0.0|                 1411|         22| 81061.77462792346|        0.0|\n",
      "|              CONDOR|           9.0|                   67|          3|49.865671641791046|        0.0|\n",
      "|   LASER AEREO S.A.S|          49.0|                  537|          9|256.91620111731845|        0.0|\n",
      "|        HELI JET SAS|          90.0|                  334|         20|202.26646706586826|        0.0|\n",
      "|                SAER|          86.0|                 5461|         44|104.71800036623328|        0.0|\n",
      "+--------------------+--------------+---------------------+-----------+------------------+-----------+\n",
      "only showing top 20 rows\n",
      "\n"
     ]
    }
   ],
   "source": [
    "#Estadisticas de la tablas de vuelos, empresa\n",
    "vuelos_e2.groupBy('empresa').agg({'vuelos':'max','sillas': 'mean',  'carga_bordo': 'mean','carga_ofrecida': 'count', 'pasajeros': 'max'}).show()"
   ]
  },
  {
   "cell_type": "code",
   "execution_count": 24,
   "id": "9deddf88",
   "metadata": {},
   "outputs": [
    {
     "name": "stdout",
     "output_type": "stream",
     "text": [
      "+--------------------+----+----+----+----+\n",
      "|             empresa|   A|   C|   R|   T|\n",
      "+--------------------+----+----+----+----+\n",
      "|VERTICAL DE AVIAC...|null|null|null|  77|\n",
      "|             HELICOL|null|null|null| 752|\n",
      "|AERO TAXI GUAYMAR...|null|null|null| 741|\n",
      "|        AIR COLOMBIA|null|null| 583|null|\n",
      "|             ALIANSA|null|null| 300|null|\n",
      "|CHARTER DEL CARIB...|null|null|null| 844|\n",
      "|         SEARCA S.A.|null|null|null|8633|\n",
      "|         AEROMENEGUA|null|null|null| 858|\n",
      "|ANDES LINEAS AERE...|null|   2|null|null|\n",
      "|AEROEXPRESO DEL P...|null|null|null| 336|\n",
      "|              TAERCO|null|null|null|  18|\n",
      "|    TAMPA CARGO S.A.|null|null| 177|null|\n",
      "|CENTURION AIR CAR...|null|   3|   4|null|\n",
      "|               TAXCO|null|null|null|   5|\n",
      "|                 TAC|null|null|null|2024|\n",
      "|           AEROSUCRE|null|null|1411|null|\n",
      "|              CONDOR|null|null|null|  67|\n",
      "|   LASER AEREO S.A.S|null|null|null| 537|\n",
      "|        HELI JET SAS|null|null|null| 334|\n",
      "|                SAER|null|null|null|5461|\n",
      "+--------------------+----+----+----+----+\n",
      "only showing top 20 rows\n",
      "\n"
     ]
    }
   ],
   "source": [
    "#Estadisticas de la tablas de vuelos, empresa y tipo de vuelo\n",
    "vuelos_e2.groupBy('empresa').pivot('tipo_vuelo').count().show()"
   ]
  },
  {
   "cell_type": "code",
   "execution_count": 25,
   "id": "6bf03978",
   "metadata": {},
   "outputs": [
    {
     "name": "stdout",
     "output_type": "stream",
     "text": [
      "+--------------------+----+----+----+----+----+----+----+\n",
      "|             empresa|2010|2011|2012|2013|2014|2015|2016|\n",
      "+--------------------+----+----+----+----+----+----+----+\n",
      "|VERTICAL DE AVIAC...|  36|  19|null|null|null|  22|null|\n",
      "|             HELICOL|null|null|null|  12| 292| 228| 220|\n",
      "|AERO TAXI GUAYMAR...|null|null| 144| 147| 150| 124| 176|\n",
      "|        AIR COLOMBIA|  82|  73|  88| 109|  98|  74|  59|\n",
      "|             ALIANSA|null|   1|  16|  57|  56|  89|  81|\n",
      "|CHARTER DEL CARIB...|  79|  60| 124| 129| 170| 142| 140|\n",
      "|         SEARCA S.A.|1291|1415|1553|1475|1430| 761| 708|\n",
      "|         AEROMENEGUA| 161| 137| 120| 113| 167|  79|  81|\n",
      "|ANDES LINEAS AERE...|null|null|null|null|null|null|   2|\n",
      "|AEROEXPRESO DEL P...|  92| 117|  74|  44|   2|null|   7|\n",
      "|              TAERCO|null|   2|  10|null|   4|null|   2|\n",
      "|    TAMPA CARGO S.A.|  24|  29|  28|  39|  20|  18|  19|\n",
      "|CENTURION AIR CAR...|   2|   1|   1|null|   3|null|null|\n",
      "|               TAXCO|null|null|   5|null|null|null|null|\n",
      "|                 TAC| 286| 267| 233| 308| 333| 300| 297|\n",
      "|              CONDOR|  18|  37|  12|null|null|null|null|\n",
      "|           AEROSUCRE| 233| 217| 190| 147| 234| 193| 197|\n",
      "|   LASER AEREO S.A.S|  24|  34|  65| 174| 197|  11|  32|\n",
      "|        HELI JET SAS| 119|  76|  49|null|  26|  47|  17|\n",
      "|                SAER| 533| 927|1058| 941| 897| 680| 425|\n",
      "+--------------------+----+----+----+----+----+----+----+\n",
      "only showing top 20 rows\n",
      "\n"
     ]
    }
   ],
   "source": [
    "vuelos_e2.groupBy('empresa').pivot('ano').count().show()"
   ]
  },
  {
   "cell_type": "code",
   "execution_count": 26,
   "id": "986ad12c",
   "metadata": {},
   "outputs": [
    {
     "name": "stdout",
     "output_type": "stream",
     "text": [
      "+------+----+----+----+----+----+----+----+\n",
      "|origen|2010|2011|2012|2013|2014|2015|2016|\n",
      "+------+----+----+----+----+----+----+----+\n",
      "|   9CL|null|   1|null|null|null|null|   1|\n",
      "|   9AB|   4|   6|null|   1|null|null|null|\n",
      "|   9AZ|  58|  67|  69|  63|  47|  29|  23|\n",
      "|   9CG|   2|  15|  20|  11|   7|   9|   6|\n",
      "|   OTU|   2|   4|  10|  16|   6|   6|   5|\n",
      "|   7FZ|null|null|null|   1|null|null|   2|\n",
      "|   NVA| 384| 378| 391| 434| 469| 341| 205|\n",
      "|   7HM|null|null|null|null|   4|   4|  16|\n",
      "|   RVE|  39|  57|  73|  99|  70|  80|  85|\n",
      "|   9BB|null|   1|  17|  23|  19|   2|   1|\n",
      "|   9BI|null|   2|   2|null|   1|   1|null|\n",
      "|   9CD|null|null|null|null|  12|null|null|\n",
      "|   CAQ|  29|  35|  62|  56|  22|  15|  14|\n",
      "|   BEC|null|null|null|null|   1|null|null|\n",
      "|   9BO|   2|   1|   7|   1|   1|   1|null|\n",
      "|   ACD|  13|  12|   8|  12|  17|  13|   2|\n",
      "|   YPP|null|null|   1|null|   1|null|null|\n",
      "|   7IH|null|null|null|null|null|   3|   6|\n",
      "|   PUU| 160| 161| 147| 192| 175| 116| 107|\n",
      "|   9AI|  77|  83|  81|  55|  50|   7|   7|\n",
      "+------+----+----+----+----+----+----+----+\n",
      "only showing top 20 rows\n",
      "\n"
     ]
    }
   ],
   "source": [
    "vuelos_e2.groupBy('origen').pivot('ano').count().show()"
   ]
  },
  {
   "cell_type": "code",
   "execution_count": 27,
   "id": "0401f109",
   "metadata": {},
   "outputs": [
    {
     "name": "stdout",
     "output_type": "stream",
     "text": [
      "+-------+----+----+----+----+----+----+----+\n",
      "|destino|2010|2011|2012|2013|2014|2015|2016|\n",
      "+-------+----+----+----+----+----+----+----+\n",
      "|    9CL|null|   1|null|null|null|null|   1|\n",
      "|    7HC|null|null|null|   1|null|null|null|\n",
      "|    9AB|   7|  12|   2|   1|null|null|   1|\n",
      "|    9AZ|  68|  72|  89|  63|  44|  32|  30|\n",
      "|    9CG|   5|  18|  18|  11|   7|   9|   7|\n",
      "|    OTU|   3|   7|   8|  10|   3|   5|   3|\n",
      "|    7FZ|null|null|null|   1|null|null|   2|\n",
      "|    9LS|null|null|   1|null|null|null|null|\n",
      "|    NVA| 362| 364| 406| 432| 468| 321| 200|\n",
      "|    7GI|null|null|null|null|   1|null|null|\n",
      "|    7HM|null|null|null|null|   2|   3|  14|\n",
      "|    RVE|  51|  65|  69|  89|  67|  77|  62|\n",
      "|    9BB|null|   1|  18|  20|  20|   1|   1|\n",
      "|    9CD|null|null|null|   1|  10|null|null|\n",
      "|    9BI|null|   1|   2|null|   1|null|   1|\n",
      "|    CAQ|  31|  43|  64|  58|  25|  15|  13|\n",
      "|    BEC|null|null|null|null|   1|null|null|\n",
      "|    9BO|   1|   1|   7|   1|   1|   1|null|\n",
      "|    ACD|  20|   8|  15|  11|  14|  15|   2|\n",
      "|    7IH|null|null|null|null|null|   3|   6|\n",
      "+-------+----+----+----+----+----+----+----+\n",
      "only showing top 20 rows\n",
      "\n"
     ]
    }
   ],
   "source": [
    "vuelos_e2.groupBy('destino').pivot('ano').count().show()"
   ]
  },
  {
   "cell_type": "code",
   "execution_count": 28,
   "id": "8b35f535",
   "metadata": {},
   "outputs": [
    {
     "data": {
      "text/plain": [
       "DataFrame[Unnamed: 0: string, LA ESCONDIDA: double, MORICHITO: double, CAROLINA DEL PRINCIPE: double, DUBAI: double, BARU - HIDROPUERTO: double, LA CAROLINA: string, SAN FELIPE DEL PAUTO: double, VELASQUEZ: string, LA UNION: double, LA ILUSION: double, LA VENTUROSA: double, GUAYABAL DEL CRAVO: double, LAS VIOLETAS- CA: double, LOS MANGOS: double, EL CONDOR: double, HOTEL SAN DIEGO: double, EL CAFUCHE: double, GUACHARACAS (COLOMBAIMA): double, GAVILAN DE LA PASCUA: double, DOROTEA B1: double, HORIZONTES: double, MACOLLA: double, MULETOS- CA: double, LA MAPORA: double, LLANO CAUCHO: double, ARMENIA: double, RANCHO COLIBRI - CA: double, EL CAIRANO: double, NUEVA ROMA: double, JAGUAR: double, OCELOTE: double, GETSEMANI: double, URACA - CA.: double, SAN ROQUE  - CA.: double, SAN LUIS DE PACA: double, CANANARI: double, MARAREY: double, SANTA CLARA: double, SAN PABLO: double, COROCITO: double, LAS FURIAS: double, EL NOGAL: double, SANTA CRUZ: double, CURUMANI: string, SAN MIGUEL: string, CANTADELICIAS: double, LAS VEGAS: double, LA FRANCIA: double, SAN FELIPE: string, JULIAN: double, LOS HALCONES: string, EL SOÑADOR: double, EL CONCHAL - CA: double, SEVILLA: double, ASA SAN MARTIN: double, LA FAZENDA: double, LA ESTRELLA-CA.: double, LAS AGUILAS -CA: double, CAMARUCOS: double, EL TOTUMO: double, VARSOVIA: double, LA HERMOSA: double, SAN ESTEBAN: double, SAN JOSE DEL ARIPORO: double, COLINERAS: double, LA CAIMANA: double, EMAUS: double, SANTA MARIA DEL CAFÉ: double, MIRAMAR DE GUANAPALO: double, LA SALVACION: double, LOMA GRANDE - CA: double, EL CAPRICHO: double, COROCORA: double, GRISMANIA: double, PALMAS DE TUMACO  -CA: double, INGENIO LA CARMELITA: double, EL LAGO - CA: double, HACIENDA LA JOYA: double, LA PASTORA: double, TALANQUERA: double, VILLA GEORGINA: double, INGENIO PICHICHI: double, SAN SEBASTIAN: double, EL COROZO: double, HATO VIEJO: double, GUADUALITO: string, LA REDENCION: double, LA PONDEROSA: string, LOS REMANSOS: double, SAN LUIS: string, LOS GAVANES (LA MATA): double, EL RODEO: string, EL PALMAR: double, LA GAITANA: double, SAN ISIDRO II: double, EL DELIRIO: double, LA MONICA: double, LA ABEJITA: double, CACHIMBALITO - CA: double, MADREVIEJA: double, SAN JUAN: double, LA FORTUNA: double, AGROFORESTAL MATA AZUL: double, VILLA ISABELLA: double, MIRADOR: double, EL CARIBE: double, EL PEDRAL BONANZA: double, SAN NICOLAS: double, LOS LOBOS: double, EL RASTRO: double, LOS GANSOS: double, BETANIA: double, AGUAS CLARAS: double, LAS NUBES: double, CAMPO ALEGRE: string, CAÑO COLORADO: double, FORTUL: double, AGUA BLANCA: string, ALCIDES FERNANDEZ: double, EL MONASTERIO: double, AGUACLARA: double, ACAPULCO: double, ARARACUARA: double, GUSTAVO ROJAS PINILLA: double, AEROFLANDES - C.A.: double, EL RIO: double, HACARITAMA: double, MARIA ANGELICA: double, EL DIAMANTE: double, ANTONIO ROLDAN BETANCOURT: double, ARBOLETES: double, EL TRONCAL: double, ATACO: double, SANTIAGO PEREZ QUIROZ: double, EL CORAJE: string, INGENIO RISARALDA: double, BANCO LARGO: double, GUAICARAMO: double, PIZARRO: double, BECERRIL: string, BERASTEGUI: double, BIZERTA: double, BARRANCO MINAS: double, BOLUGA: double, BUENOS AIRES: double, BUENOS AIRES -FADELCE: double, EL DORADO: double, BUENAVENTURA-GERARDO TOBAR LOPEZ: double, ALFONSO BONILLA ARAGON: double, CONDOTO MANDINGA: double, NAVAS PARDO: double, RAFAEL NUÑEZ: double, CAMILO DAZA: double, CAMILO DAZA No.2: double, LAS BRUJAS: double, YARIGUIES: double, EL JUNCAL: double, LAS FLORES: double, EL ALCARAVAN: double, GUSTAVO ARTUNDUAGA PAREDES: double, JUAN CASIANO: double, FLAMINIO S. CAMACHO: double, HATO COROZAL: double, PERALES: double, JAIME ORTIZ BETANCUR: double, MIRAFLORES: double, BARACOA: double, SAN BERNARDO: double, JOSE CELESTINO: double, EL PINDO: double, LOS GARZONES: double, FABIO A. LEON BENTLEY: double, REYES MURILLO: double, BENITO SALAS: double, EL MEDANO: double, REMEDIOS OTU: double, GERMAN OLANO: double, PAIPA JUAN JOSE RONDON: double, GUILLERMO LEON VALENCIA: double, ANTONIO NARIÑO: double, CONTADOR: double, GEMELOS DORADOS: double, TRES DE MAYO: double, EL EMBRUJO: double, PAZ DE ARIPORO: double, CRAVO NORTE: double, ALMIRANTE PADILLA: double, COLONIZADORES: double, SIMON BOLIVAR: double, SAN MARTIN: double, EDUARDO FALLA SOLANO: double, LA FLORIDA: double, TRINIDAD: double, TOLU: double, GUSTAVO VARGAS: double, TABLON DE TAMARA: double, EL CARAÑO: double, ALI PIEDRAHITA: double, CANANGUCHAL: double, ALFONSO LOPEZ PUMAREJO: double, VANGUARDIA: double, SANTA ISABEL: double, YAPIMA: double, TROMPILLOS: double, GERMAN ALBERTO: double, GUILLERMO GOMEZ ORTIZ: double]"
      ]
     },
     "execution_count": 28,
     "metadata": {},
     "output_type": "execute_result"
    }
   ],
   "source": [
    "#cambiar por 0 los valores nulos de la tabla\n",
    "matriz_dis.fillna(0)"
   ]
  },
  {
   "cell_type": "code",
   "execution_count": 29,
   "id": "5d16b663",
   "metadata": {},
   "outputs": [
    {
     "data": {
      "text/plain": [
       "DataFrame[ano: int, mes: int, origen: string, destino: string, tipo_equipo: string, tipo_vuelo: string, trafico: string, empresa: string, vuelos: int, sillas: float, carga_ofrecida: float, pasajeros: float, carga_bordo: float]"
      ]
     },
     "execution_count": 29,
     "metadata": {},
     "output_type": "execute_result"
    }
   ],
   "source": [
    "#cambiar por 0 los valores nulos de la tabla\n",
    "vuelos_e2.fillna(0)"
   ]
  },
  {
   "cell_type": "code",
   "execution_count": 30,
   "id": "7b6ae3be",
   "metadata": {},
   "outputs": [
    {
     "data": {
      "text/plain": [
       "DataFrame[sigla: string, iata: string, nombre: string, municipio: string, departamento: string, categoria: string, latitud: double, longitud: double, propietario: string, explotador: string, longitud_pista: float, ancho_pista: float, pbmo: double, elevacion: float, resolucion: string, fecha_construccion: string, fecha_vigencia: string, clase: string, tipo: string, numero_vuelos_origen: float, gcd_departamento: int, gcd_municipio: int, Ano: int]"
      ]
     },
     "execution_count": 30,
     "metadata": {},
     "output_type": "execute_result"
    }
   ],
   "source": [
    "#cambiar por 0 los valores nulos de la tabla\n",
    "acinfra.fillna(0)"
   ]
  },
  {
   "cell_type": "code",
   "execution_count": 31,
   "id": "341e4bd9",
   "metadata": {},
   "outputs": [],
   "source": [
    "# Visualizacion de la tabla\n",
    "vuelos_e2_opt = vuelos_e2.select('origen','destino', 'empresa','vuelos','sillas','carga_ofrecida', 'pasajeros', 'carga_bordo','ano').where((vuelos_e2['origen'].isNotNull()) & (vuelos_e2['vuelos'] > 1) & (vuelos_e2['carga_bordo'] > 1) & (vuelos_e2['sillas'] > 1))\n"
   ]
  },
  {
   "cell_type": "code",
   "execution_count": 32,
   "id": "98ab06d9",
   "metadata": {},
   "outputs": [],
   "source": [
    "# Visualizacion de la tabla\n",
    "vuelos_e2_sc = vuelos_e2.select('origen','destino', 'empresa','vuelos','sillas','carga_ofrecida', 'pasajeros','ano').where((vuelos_e2['origen'].isNotNull()) & (vuelos_e2['vuelos'] > 1) & (vuelos_e2['sillas'] > 1))\n"
   ]
  },
  {
   "cell_type": "code",
   "execution_count": 33,
   "id": "d4dc2f6d",
   "metadata": {},
   "outputs": [],
   "source": [
    "#Función para realizar una normalización min-max\n",
    "def normalizar(valor, minimo, maximo):\n",
    "    return (valor-minimo)/(maximo-minimo)\n",
    "\n"
   ]
  },
  {
   "cell_type": "code",
   "execution_count": 34,
   "id": "f48e2b99",
   "metadata": {},
   "outputs": [],
   "source": [
    "# funcion para normalizar las tablas\n",
    "def normalizar(df, columna):\n",
    "    #Se obtiene el CreditLimit mínimo\n",
    "    min_cred = df.agg({columna: 'min'}).collect()[0][0]\n",
    "    #Se obtiene el CreditLimit máximo\n",
    "    max_cred = df.agg({columna: 'max'}).collect()[0][0]\n",
    "\n",
    "    #Se define la función normalizar como una UDF \n",
    "    #Se utiliza una función Lambda internamente para inyectar min_cred y max_cred pues por defecto una UDF solo puede recibir columnas por parámetro.\n",
    "    norm_udf = udf(lambda x: normalizar(x, min_cred, max_cred), FloatType())\n",
    "\n",
    "    #Primero se reemplazan los valores nulos, pues la función normalizar no puede operar con valores nulos.\n",
    "    df = df.fillna({columna: 0.0})\n",
    "    df = df.withColumn(columna, norm_udf(df[columna]))\n",
    "    \n",
    "    return df"
   ]
  },
  {
   "cell_type": "code",
   "execution_count": 35,
   "id": "57acdcaf",
   "metadata": {},
   "outputs": [],
   "source": [
    "for i in l_vuelos_e2:\n",
    "    normalizar(vuelos_e2, i)"
   ]
  },
  {
   "cell_type": "code",
   "execution_count": 36,
   "id": "1425814c",
   "metadata": {},
   "outputs": [],
   "source": [
    "for i in l_cobertura_aerea:\n",
    "    normalizar(cobertura_aerea, i)"
   ]
  },
  {
   "cell_type": "code",
   "execution_count": 37,
   "id": "edb6a940",
   "metadata": {},
   "outputs": [],
   "source": [
    "# for i in l_acinfra:\n",
    "#     normalizar(acinfra, i)"
   ]
  },
  {
   "cell_type": "code",
   "execution_count": 38,
   "id": "19e96a7a",
   "metadata": {},
   "outputs": [],
   "source": [
    "vuelos_e2=vuelos_e2.toPandas()\n",
    "cobertura_aerea=cobertura_aerea.toPandas()\n"
   ]
  },
  {
   "cell_type": "code",
   "execution_count": 39,
   "id": "5ae5807e",
   "metadata": {},
   "outputs": [],
   "source": [
    "list_vuelos=[]\n",
    "for i in range(len(vuelos_e2)):\n",
    "    list_vuelos.append((vuelos_e2['vuelos'][i]/vuelos_e2['vuelos'].sum())*100)"
   ]
  },
  {
   "cell_type": "code",
   "execution_count": 40,
   "id": "edfd384c",
   "metadata": {},
   "outputs": [],
   "source": [
    "vuelos_e2['porcentaje_vuelos']=list_vuelos"
   ]
  },
  {
   "cell_type": "code",
   "execution_count": 41,
   "id": "49476197",
   "metadata": {},
   "outputs": [],
   "source": [
    "capacidad_carga=[]\n",
    "for i in range(len((vuelos_e2))):\n",
    "    if vuelos_e2['carga_ofrecida'][i]>0:\n",
    "        capacidad_carga.append((float(vuelos_e2['carga_bordo'][i])/float(vuelos_e2['carga_ofrecida'][i]))*100)\n",
    "    else:\n",
    "        capacidad_carga.append(0)\n",
    "vuelos_e2['porc_carga_bordo']=capacidad_carga"
   ]
  },
  {
   "cell_type": "code",
   "execution_count": 42,
   "id": "69e57418",
   "metadata": {},
   "outputs": [],
   "source": [
    "capacidad_ocupacio=[]\n",
    "for i in range(len((vuelos_e2))):\n",
    "    if vuelos_e2['sillas'][i]>0:\n",
    "        capacidad_ocupacio.append((float(vuelos_e2['pasajeros'][i])/float(vuelos_e2['sillas'][i]))*100)\n",
    "    else:\n",
    "        capacidad_ocupacio.append(0)\n",
    "vuelos_e2['porc_ocupacion_pasajeros']=capacidad_ocupacio"
   ]
  },
  {
   "cell_type": "code",
   "execution_count": 43,
   "id": "7db3cdf0",
   "metadata": {},
   "outputs": [
    {
     "data": {
      "text/html": [
       "<div>\n",
       "<style scoped>\n",
       "    .dataframe tbody tr th:only-of-type {\n",
       "        vertical-align: middle;\n",
       "    }\n",
       "\n",
       "    .dataframe tbody tr th {\n",
       "        vertical-align: top;\n",
       "    }\n",
       "\n",
       "    .dataframe thead th {\n",
       "        text-align: right;\n",
       "    }\n",
       "</style>\n",
       "<table border=\"1\" class=\"dataframe\">\n",
       "  <thead>\n",
       "    <tr style=\"text-align: right;\">\n",
       "      <th></th>\n",
       "      <th>ano</th>\n",
       "      <th>mes</th>\n",
       "      <th>origen</th>\n",
       "      <th>destino</th>\n",
       "      <th>tipo_equipo</th>\n",
       "      <th>tipo_vuelo</th>\n",
       "      <th>trafico</th>\n",
       "      <th>empresa</th>\n",
       "      <th>vuelos</th>\n",
       "      <th>sillas</th>\n",
       "      <th>carga_ofrecida</th>\n",
       "      <th>pasajeros</th>\n",
       "      <th>carga_bordo</th>\n",
       "      <th>porcentaje_vuelos</th>\n",
       "      <th>porc_carga_bordo</th>\n",
       "      <th>porc_ocupacion_pasajeros</th>\n",
       "    </tr>\n",
       "  </thead>\n",
       "  <tbody>\n",
       "    <tr>\n",
       "      <th>82554</th>\n",
       "      <td>2016</td>\n",
       "      <td>12</td>\n",
       "      <td>MVP</td>\n",
       "      <td>VVC</td>\n",
       "      <td>DC3</td>\n",
       "      <td>R</td>\n",
       "      <td>N</td>\n",
       "      <td>ALIANSA</td>\n",
       "      <td>1</td>\n",
       "      <td>19.0</td>\n",
       "      <td>1400.0</td>\n",
       "      <td>11.0</td>\n",
       "      <td>400.0</td>\n",
       "      <td>0.000084</td>\n",
       "      <td>28.571429</td>\n",
       "      <td>57.894737</td>\n",
       "    </tr>\n",
       "    <tr>\n",
       "      <th>82555</th>\n",
       "      <td>2016</td>\n",
       "      <td>12</td>\n",
       "      <td>MVP</td>\n",
       "      <td>VVC</td>\n",
       "      <td>DC3T</td>\n",
       "      <td>R</td>\n",
       "      <td>N</td>\n",
       "      <td>ALIANSA</td>\n",
       "      <td>7</td>\n",
       "      <td>133.0</td>\n",
       "      <td>23800.0</td>\n",
       "      <td>100.0</td>\n",
       "      <td>1600.0</td>\n",
       "      <td>0.000589</td>\n",
       "      <td>6.722689</td>\n",
       "      <td>75.187970</td>\n",
       "    </tr>\n",
       "    <tr>\n",
       "      <th>82556</th>\n",
       "      <td>2016</td>\n",
       "      <td>12</td>\n",
       "      <td>VVC</td>\n",
       "      <td>EJA</td>\n",
       "      <td>DC3T</td>\n",
       "      <td>R</td>\n",
       "      <td>N</td>\n",
       "      <td>ALIANSA</td>\n",
       "      <td>1</td>\n",
       "      <td>0.0</td>\n",
       "      <td>2150.0</td>\n",
       "      <td>0.0</td>\n",
       "      <td>2150.0</td>\n",
       "      <td>0.000084</td>\n",
       "      <td>100.000000</td>\n",
       "      <td>0.000000</td>\n",
       "    </tr>\n",
       "    <tr>\n",
       "      <th>82557</th>\n",
       "      <td>2016</td>\n",
       "      <td>12</td>\n",
       "      <td>VVC</td>\n",
       "      <td>MVP</td>\n",
       "      <td>DC3</td>\n",
       "      <td>R</td>\n",
       "      <td>N</td>\n",
       "      <td>ALIANSA</td>\n",
       "      <td>1</td>\n",
       "      <td>10.0</td>\n",
       "      <td>1640.0</td>\n",
       "      <td>10.0</td>\n",
       "      <td>1640.0</td>\n",
       "      <td>0.000084</td>\n",
       "      <td>100.000000</td>\n",
       "      <td>100.000000</td>\n",
       "    </tr>\n",
       "    <tr>\n",
       "      <th>82558</th>\n",
       "      <td>2016</td>\n",
       "      <td>12</td>\n",
       "      <td>VVC</td>\n",
       "      <td>MVP</td>\n",
       "      <td>DC3T</td>\n",
       "      <td>R</td>\n",
       "      <td>N</td>\n",
       "      <td>ALIANSA</td>\n",
       "      <td>8</td>\n",
       "      <td>133.0</td>\n",
       "      <td>27490.0</td>\n",
       "      <td>98.0</td>\n",
       "      <td>21950.0</td>\n",
       "      <td>0.000673</td>\n",
       "      <td>79.847217</td>\n",
       "      <td>73.684211</td>\n",
       "    </tr>\n",
       "  </tbody>\n",
       "</table>\n",
       "</div>"
      ],
      "text/plain": [
       "        ano  mes origen destino tipo_equipo tipo_vuelo trafico  empresa  \\\n",
       "82554  2016   12    MVP     VVC         DC3          R       N  ALIANSA   \n",
       "82555  2016   12    MVP     VVC        DC3T          R       N  ALIANSA   \n",
       "82556  2016   12    VVC     EJA        DC3T          R       N  ALIANSA   \n",
       "82557  2016   12    VVC     MVP         DC3          R       N  ALIANSA   \n",
       "82558  2016   12    VVC     MVP        DC3T          R       N  ALIANSA   \n",
       "\n",
       "       vuelos  sillas  carga_ofrecida  pasajeros  carga_bordo  \\\n",
       "82554       1    19.0          1400.0       11.0        400.0   \n",
       "82555       7   133.0         23800.0      100.0       1600.0   \n",
       "82556       1     0.0          2150.0        0.0       2150.0   \n",
       "82557       1    10.0          1640.0       10.0       1640.0   \n",
       "82558       8   133.0         27490.0       98.0      21950.0   \n",
       "\n",
       "       porcentaje_vuelos  porc_carga_bordo  porc_ocupacion_pasajeros  \n",
       "82554           0.000084         28.571429                 57.894737  \n",
       "82555           0.000589          6.722689                 75.187970  \n",
       "82556           0.000084        100.000000                  0.000000  \n",
       "82557           0.000084        100.000000                100.000000  \n",
       "82558           0.000673         79.847217                 73.684211  "
      ]
     },
     "execution_count": 43,
     "metadata": {},
     "output_type": "execute_result"
    }
   ],
   "source": [
    "vuelos_e2.tail()"
   ]
  },
  {
   "cell_type": "code",
   "execution_count": 44,
   "id": "8fe94753",
   "metadata": {},
   "outputs": [
    {
     "data": {
      "text/plain": [
       "Index(['Codigo_Centro_Poblado', 'Nombre_centro_poblado', 'Aeropuerto',\n",
       "       'Distancia(Km)', 'Cobertura', 'Aerodromo', 'D_Aerodromo', 'Regional',\n",
       "       'D_Regional', 'Nacional', 'D_Nacional', 'Internacional',\n",
       "       'D_Internacional', 'Tipo_Cobertura'],\n",
       "      dtype='object')"
      ]
     },
     "execution_count": 44,
     "metadata": {},
     "output_type": "execute_result"
    }
   ],
   "source": [
    "cobertura_aerea.columns"
   ]
  },
  {
   "cell_type": "code",
   "execution_count": 45,
   "id": "f502074d",
   "metadata": {},
   "outputs": [
    {
     "data": {
      "text/plain": [
       "Aeródromo        3014\n",
       "Internacional    1607\n",
       "Regional         1332\n",
       "Nacional         1219\n",
       "Sin cobertura     707\n",
       "Name: Tipo_Cobertura, dtype: int64"
      ]
     },
     "execution_count": 45,
     "metadata": {},
     "output_type": "execute_result"
    }
   ],
   "source": [
    "cobertura_aerea['Tipo_Cobertura'].value_counts()"
   ]
  },
  {
   "cell_type": "code",
   "execution_count": 46,
   "id": "ff9f71c6",
   "metadata": {},
   "outputs": [
    {
     "data": {
      "text/plain": [
       "True     7172\n",
       "False     707\n",
       "Name: Cobertura, dtype: int64"
      ]
     },
     "execution_count": 46,
     "metadata": {},
     "output_type": "execute_result"
    }
   ],
   "source": [
    "cobertura_aerea['Cobertura'].value_counts()"
   ]
  },
  {
   "cell_type": "code",
   "execution_count": 47,
   "id": "1ea1dc5b",
   "metadata": {},
   "outputs": [],
   "source": [
    "cobertura_aerea=cobertura_aerea.rename(columns={'Distancia(Km)':'distancia'})"
   ]
  },
  {
   "cell_type": "code",
   "execution_count": 48,
   "id": "110c43ed",
   "metadata": {},
   "outputs": [],
   "source": [
    "#Agregar columnas necesarias para el modelado\n",
    "\n",
    "#Columna Fecha en la tabla de los vuelos\n",
    "\n",
    "vuelos_e2['fecha']=vuelos_e2['ano'].astype(str)+vuelos_e2['mes'].astype(str)\n",
    "vuelos_e2['fecha']=pd.to_datetime(vuelos_e2['fecha'], format='%Y%m')\n",
    "\n",
    "\n",
    "#Porcentaje de ocupacion de aviones\n"
   ]
  },
  {
   "cell_type": "code",
   "execution_count": 49,
   "id": "4fcd6273",
   "metadata": {},
   "outputs": [],
   "source": [
    "# cambiar de formato la tabla para trabajar con ella\n",
    "acinfra=acinfra.toPandas()\n"
   ]
  },
  {
   "cell_type": "code",
   "execution_count": 50,
   "id": "fa9f7346",
   "metadata": {},
   "outputs": [],
   "source": [
    "#creacion de columna id\n",
    "cont=0\n",
    "lista=[]\n",
    "for i in range(len(acinfra)):\n",
    "    cont+=1\n",
    "    lista.append(cont)\n",
    "acinfra['id_aeropuerto']=lista\n",
    "\n"
   ]
  },
  {
   "cell_type": "code",
   "execution_count": 51,
   "id": "eebcd315",
   "metadata": {},
   "outputs": [],
   "source": [
    "#creacion de columna id\n",
    "cont=0\n",
    "lista=[]\n",
    "for i in range(len(acinfra)):\n",
    "    cont+=1\n",
    "    lista.append(cont)\n",
    "acinfra['id_ubicacion']=lista"
   ]
  },
  {
   "cell_type": "code",
   "execution_count": 52,
   "id": "3e872b49",
   "metadata": {},
   "outputs": [],
   "source": [
    "#creacion de columna id\n",
    "cont=0\n",
    "lista=[]\n",
    "for i in range(len(vuelos_e2)):\n",
    "    cont+=1\n",
    "    lista.append(cont)\n",
    "vuelos_e2['id_vuelos']=lista"
   ]
  },
  {
   "cell_type": "code",
   "execution_count": 53,
   "id": "012d556d",
   "metadata": {},
   "outputs": [],
   "source": [
    "#creacion de columna id\n",
    "cont=0\n",
    "lista=[]\n",
    "for i in range(len(vuelos_e2)):\n",
    "    cont+=1\n",
    "    lista.append(cont)\n",
    "vuelos_e2['id_fecha']=lista"
   ]
  },
  {
   "cell_type": "code",
   "execution_count": 54,
   "id": "ea8efe11",
   "metadata": {},
   "outputs": [],
   "source": [
    "#Tabla de hechos RegistroDeVuelos\n",
    "\n",
    "RegistroDeVuelos = pd.concat([vuelos_e2, acinfra], axis=1, join=\"inner\")\n",
    "\n"
   ]
  },
  {
   "cell_type": "code",
   "execution_count": 55,
   "id": "21ffb5e2",
   "metadata": {},
   "outputs": [],
   "source": [
    "# Eliminacion de columnas de la tabla de hechos\n",
    "RegistroDeVuelos=RegistroDeVuelos.drop(['ano', 'mes', 'origen', 'destino', 'tipo_equipo', 'tipo_vuelo',\n",
    "       'trafico', 'empresa','fecha','sigla',\n",
    "       'iata', 'nombre', 'municipio', 'departamento', 'categoria', 'latitud',\n",
    "       'longitud', 'propietario', 'explotador','pbmo', 'elevacion', 'resolucion', 'fecha_construccion',\n",
    "       'fecha_vigencia', 'clase', 'tipo','gcd_departamento', 'gcd_municipio', 'Ano'], axis=1)"
   ]
  },
  {
   "cell_type": "code",
   "execution_count": 56,
   "id": "9fcfbddf",
   "metadata": {},
   "outputs": [],
   "source": [
    "# Agregar de columnas de la tabla de hechos\n",
    "RegistroDeVuelos['D_Regional']=cobertura_aerea['D_Regional']\n",
    "RegistroDeVuelos['distancia']=cobertura_aerea['distancia']\n",
    "RegistroDeVuelos['D_Aerodromo']=cobertura_aerea['D_Aerodromo']\n",
    "RegistroDeVuelos['D_Nacional']=cobertura_aerea['D_Nacional']\n",
    "RegistroDeVuelos['D_Internacional']=cobertura_aerea['D_Internacional']\n",
    "RegistroDeVuelos['id_cobertura']=cobertura_aerea['Codigo_Centro_Poblado']\n",
    "\n"
   ]
  },
  {
   "cell_type": "code",
   "execution_count": 57,
   "id": "2cb4bf55",
   "metadata": {},
   "outputs": [],
   "source": [
    "# cambiar los valores nulos por 0\n",
    "RegistroDeVuelos=RegistroDeVuelos.fillna(0)"
   ]
  },
  {
   "cell_type": "code",
   "execution_count": 58,
   "id": "676f88ff",
   "metadata": {},
   "outputs": [],
   "source": [
    "# Funcion para explorar de los valores nulos\n",
    "def null_exploration(df):\n",
    "    \n",
    "    print(df.isnull().sum())\n",
    "    print(df.isnull().mean())"
   ]
  },
  {
   "cell_type": "code",
   "execution_count": 59,
   "id": "32b05158",
   "metadata": {},
   "outputs": [
    {
     "name": "stdout",
     "output_type": "stream",
     "text": [
      "vuelos                      0\n",
      "sillas                      0\n",
      "carga_ofrecida              0\n",
      "pasajeros                   0\n",
      "carga_bordo                 0\n",
      "porcentaje_vuelos           0\n",
      "porc_carga_bordo            0\n",
      "porc_ocupacion_pasajeros    0\n",
      "id_vuelos                   0\n",
      "id_fecha                    0\n",
      "longitud_pista              0\n",
      "ancho_pista                 0\n",
      "numero_vuelos_origen        0\n",
      "id_aeropuerto               0\n",
      "id_ubicacion                0\n",
      "D_Regional                  0\n",
      "distancia                   0\n",
      "D_Aerodromo                 0\n",
      "D_Nacional                  0\n",
      "D_Internacional             0\n",
      "id_cobertura                0\n",
      "dtype: int64\n",
      "vuelos                      0.0\n",
      "sillas                      0.0\n",
      "carga_ofrecida              0.0\n",
      "pasajeros                   0.0\n",
      "carga_bordo                 0.0\n",
      "porcentaje_vuelos           0.0\n",
      "porc_carga_bordo            0.0\n",
      "porc_ocupacion_pasajeros    0.0\n",
      "id_vuelos                   0.0\n",
      "id_fecha                    0.0\n",
      "longitud_pista              0.0\n",
      "ancho_pista                 0.0\n",
      "numero_vuelos_origen        0.0\n",
      "id_aeropuerto               0.0\n",
      "id_ubicacion                0.0\n",
      "D_Regional                  0.0\n",
      "distancia                   0.0\n",
      "D_Aerodromo                 0.0\n",
      "D_Nacional                  0.0\n",
      "D_Internacional             0.0\n",
      "id_cobertura                0.0\n",
      "dtype: float64\n"
     ]
    }
   ],
   "source": [
    "# Visualizacion de valores nulos\n",
    "null_exploration(RegistroDeVuelos)"
   ]
  },
  {
   "cell_type": "code",
   "execution_count": 60,
   "id": "c4226bb3",
   "metadata": {},
   "outputs": [],
   "source": [
    "# Exportar tablas para posterior creacion de dimensiones\n",
    "vuelos_e2.to_csv(PATH+'vuelos_e2f.csv')\n",
    "acinfra.to_csv(PATH+'aeropuertos_c_infra.csv')\n",
    "cobertura_aerea.to_csv(PATH+'cobertura_aerea.csv')\n",
    "matriz_dis.toPandas().to_csv(PATH+'matriz_distancia.csv')\n",
    "RegistroDeVuelos.to_csv(PATH+'RegistroDeVuelos.csv')"
   ]
  }
 ],
 "metadata": {
  "kernelspec": {
   "display_name": "Python 3",
   "language": "python",
   "name": "python3"
  },
  "language_info": {
   "codemirror_mode": {
    "name": "ipython",
    "version": 3
   },
   "file_extension": ".py",
   "mimetype": "text/x-python",
   "name": "python",
   "nbconvert_exporter": "python",
   "pygments_lexer": "ipython3",
   "version": "3.9.4"
  }
 },
 "nbformat": 4,
 "nbformat_minor": 5
}
